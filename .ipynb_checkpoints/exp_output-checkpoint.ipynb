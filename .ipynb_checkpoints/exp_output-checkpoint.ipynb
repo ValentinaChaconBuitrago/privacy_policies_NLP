{
 "cells": [
  {
   "cell_type": "code",
   "execution_count": 1,
   "metadata": {},
   "outputs": [],
   "source": [
    "import pandas as pd"
   ]
  },
  {
   "cell_type": "code",
   "execution_count": 5,
   "metadata": {},
   "outputs": [
    {
     "name": "stdout",
     "output_type": "stream",
     "text": [
      "      Unnamed: 0 classifier  max_features  min_df  max_df  accuracy\n",
      "488          488        SGD           200      20      80  0.908088\n",
      "941          941        SGD           500      20     110  0.901471\n",
      "953          953        SGD           500      30      80  0.900735\n",
      "1393        1393        SGD          1000      20     130  0.900735\n",
      "1582        1582        SGD          1200       1      70  0.906985\n",
      "1611        1611        SGD          1200      20      60  0.901103\n",
      "1823        1823        SGD          2000      10      80  0.901103\n",
      "1852        1852        SGD          2000      30      70  0.913235\n",
      "2049        2049        SGD          5000      10      90  0.906985\n",
      "2076        2076        SGD          5000      30      60  0.900735\n"
     ]
    }
   ],
   "source": [
    "df_integer = pd.read_excel('output_integers.xlsx')\n",
    "df_integer = df_integer[df_integer['accuracy'] >= 0.9]\n",
    "df_integer.to_excel('output_integers_ninety.xlsx')\n",
    "print(df_integer)"
   ]
  },
  {
   "cell_type": "code",
   "execution_count": 6,
   "metadata": {},
   "outputs": [
    {
     "name": "stdout",
     "output_type": "stream",
     "text": [
      "     Unnamed: 0 classifier  max_features  min_df  max_df  accuracy\n",
      "166         166        SGD           200     0.1     0.5  0.901838\n",
      "733         733        SGD          5000     0.1     0.5  0.906985\n",
      "741         741        SGD          5000     0.2     0.4  0.913235\n",
      "746         746        SGD          5000     0.2     0.9  0.901103\n"
     ]
    }
   ],
   "source": [
    "df_decimal = pd.read_excel('output_decimals.xlsx')\n",
    "df_decimal = df_decimal[df_decimal['accuracy'] >= 0.9]\n",
    "df_decimal.to_excel('output_decimals_ninety.xlsx')\n",
    "print(df_decimal)"
   ]
  },
  {
   "cell_type": "code",
   "execution_count": 9,
   "metadata": {},
   "outputs": [
    {
     "name": "stdout",
     "output_type": "stream",
     "text": [
      "       Unnamed: 0   loss     penalty   alpha  max_features  min_df  max_df  \\\n",
      "727           727  hinge          l2  0.0001           300      30      70   \n",
      "19806       19806  hinge  elasticnet  0.0001          2000       1      60   \n",
      "45472       45472    log  elasticnet  0.0001           200      10      70   \n",
      "45487       45487    log  elasticnet  0.0001           200      20      70   \n",
      "46597       46597    log  elasticnet  0.0001          1200      10      70   \n",
      "\n",
      "       accuracy  \n",
      "727    0.925368  \n",
      "19806  0.925368  \n",
      "45472  0.931985  \n",
      "45487  0.926103  \n",
      "46597  0.925735  \n"
     ]
    }
   ],
   "source": [
    "df_class = pd.read_excel('output_classifier_integers_T2.xlsx')\n",
    "df_class = df_class[df_class['accuracy'] >= 0.92]\n",
    "df_class.to_excel('output_classifier_integers_ninety.xlsx')\n",
    "print(df_class)"
   ]
  },
  {
   "cell_type": "code",
   "execution_count": 11,
   "metadata": {},
   "outputs": [
    {
     "name": "stdout",
     "output_type": "stream",
     "text": [
      "       Unnamed: 0   loss     penalty   alpha  max_features  min_df  max_df  \\\n",
      "1713         1713  hinge          l2  0.0100           100     0.2     0.4   \n",
      "8193         8193  hinge  elasticnet  0.0100           100     0.2     0.4   \n",
      "10696       10696    log          l2  0.0010           200     0.1     0.5   \n",
      "11022       11022    log          l2  0.0010          1000     0.1     0.7   \n",
      "11272       11272    log          l2  0.0010          5000     0.2     0.5   \n",
      "13207       13207    log          l1  0.0001           300     0.1     0.5   \n",
      "13863       13863    log          l1  0.0010           100     0.2     0.4   \n",
      "17176       17176    log  elasticnet  0.0010           200     0.1     0.5   \n",
      "17419       17419    log  elasticnet  0.0010           800     0.1     0.5   \n",
      "17742       17742    log  elasticnet  0.0010          5000     0.1     0.4   \n",
      "\n",
      "       accuracy  \n",
      "1713   0.919853  \n",
      "8193   0.913603  \n",
      "10696  0.919853  \n",
      "11022  0.913235  \n",
      "11272  0.912868  \n",
      "13207  0.914706  \n",
      "13863  0.913603  \n",
      "17176  0.926103  \n",
      "17419  0.913235  \n",
      "17742  0.926471  \n"
     ]
    }
   ],
   "source": [
    "df_class = pd.read_excel('output_classifier_decimals_T2.xlsx')\n",
    "df_class = df_class[df_class['accuracy'] >= 0.91]\n",
    "df_class.to_excel('output_classifier_decimals_ninety.xlsx')\n",
    "print(df_class)"
   ]
  },
  {
   "cell_type": "code",
   "execution_count": null,
   "metadata": {},
   "outputs": [],
   "source": []
  }
 ],
 "metadata": {
  "kernelspec": {
   "display_name": "Python 3",
   "language": "python",
   "name": "python3"
  },
  "language_info": {
   "codemirror_mode": {
    "name": "ipython",
    "version": 3
   },
   "file_extension": ".py",
   "mimetype": "text/x-python",
   "name": "python",
   "nbconvert_exporter": "python",
   "pygments_lexer": "ipython3",
   "version": "3.6.10"
  }
 },
 "nbformat": 4,
 "nbformat_minor": 4
}
